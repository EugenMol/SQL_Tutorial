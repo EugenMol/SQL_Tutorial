{
 "cells": [
  {
   "cell_type": "code",
   "execution_count": 1,
   "id": "fa28497e",
   "metadata": {},
   "outputs": [],
   "source": [
    "%load_ext sql"
   ]
  },
  {
   "cell_type": "code",
   "execution_count": 2,
   "id": "6d15de9b",
   "metadata": {},
   "outputs": [],
   "source": [
    "%sql sqlite://"
   ]
  },
  {
   "cell_type": "markdown",
   "id": "748770fa",
   "metadata": {},
   "source": [
    "#create table in database"
   ]
  },
  {
   "cell_type": "code",
   "execution_count": 11,
   "id": "4ea2f56c",
   "metadata": {},
   "outputs": [
    {
     "name": "stdout",
     "output_type": "stream",
     "text": [
      " * sqlite://\n",
      "(sqlite3.OperationalError) table book already exists\n",
      "[SQL: CREATE TABLE book( book_id INTEGER PRIMARY KEY AUTOINCREMENT,\n",
      "    title VARCHAR(50),\n",
      "    author VARCHAR(30),\n",
      "    price DECIMAL(8,2),\n",
      "    amount INT\n",
      ");]\n",
      "(Background on this error at: http://sqlalche.me/e/14/e3q8)\n"
     ]
    }
   ],
   "source": [
    "%%sql\n",
    "CREATE TABLE book(\n",
    "    book_id INTEGER PRIMARY KEY AUTOINCREMENT,\n",
    "    title VARCHAR(50),\n",
    "    author VARCHAR(30),\n",
    "    price DECIMAL(8,2),\n",
    "    amount INT\n",
    ");"
   ]
  },
  {
   "cell_type": "markdown",
   "id": "4ad84ca0",
   "metadata": {},
   "source": [
    "insert values in table SQL"
   ]
  },
  {
   "cell_type": "code",
   "execution_count": 17,
   "id": "bb8658a2",
   "metadata": {},
   "outputs": [
    {
     "name": "stdout",
     "output_type": "stream",
     "text": [
      " * sqlite://\n",
      "1 rows affected.\n"
     ]
    },
    {
     "data": {
      "text/plain": [
       "[]"
      ]
     },
     "execution_count": 17,
     "metadata": {},
     "output_type": "execute_result"
    }
   ],
   "source": [
    "%%sql\n",
    "INSERT INTO book (title, author, price, amount)\n",
    "VALUES ('Мастер и Маргарита', 'Булгаков М.А.', 670.99, 3)"
   ]
  },
  {
   "cell_type": "markdown",
   "id": "114a025e",
   "metadata": {},
   "source": [
    "insert any strings in table SQL"
   ]
  },
  {
   "cell_type": "code",
   "execution_count": 19,
   "id": "b9f6bf70",
   "metadata": {},
   "outputs": [
    {
     "name": "stdout",
     "output_type": "stream",
     "text": [
      " * sqlite://\n",
      "1 rows affected.\n",
      "1 rows affected.\n",
      "1 rows affected.\n"
     ]
    },
    {
     "data": {
      "text/plain": [
       "[]"
      ]
     },
     "execution_count": 19,
     "metadata": {},
     "output_type": "execute_result"
    }
   ],
   "source": [
    "%%sql\n",
    "INSERT INTO book (title, author, price, amount)\n",
    "VALUES ('Белая гвардия', 'Булгаков М.А.', 540.50, 5);\n",
    "INSERT INTO book (title, author, price, amount)\n",
    "VALUES ('Идиот', 'Достоевский Ф.М.', 460.00, 10);\n",
    "INSERT INTO book (title, author, price, amount)\n",
    "VALUES ('Братья Карамазовы', 'Достоевский Ф.М.', 799.01, 2);\n"
   ]
  },
  {
   "cell_type": "code",
   "execution_count": 20,
   "id": "6990f006",
   "metadata": {},
   "outputs": [
    {
     "name": "stdout",
     "output_type": "stream",
     "text": [
      " * sqlite://\n",
      "Done.\n"
     ]
    },
    {
     "data": {
      "text/html": [
       "<table>\n",
       "    <tr>\n",
       "        <th>book_id</th>\n",
       "        <th>title</th>\n",
       "        <th>author</th>\n",
       "        <th>price</th>\n",
       "        <th>amount</th>\n",
       "    </tr>\n",
       "    <tr>\n",
       "        <td>1</td>\n",
       "        <td>Мастер и Маргарита</td>\n",
       "        <td>Булгаков М.А.</td>\n",
       "        <td>670.99</td>\n",
       "        <td>3</td>\n",
       "    </tr>\n",
       "    <tr>\n",
       "        <td>2</td>\n",
       "        <td>Мастер и Маргарита</td>\n",
       "        <td>Булгаков М.А.</td>\n",
       "        <td>670.99</td>\n",
       "        <td>3</td>\n",
       "    </tr>\n",
       "    <tr>\n",
       "        <td>3</td>\n",
       "        <td>Белая гвардия</td>\n",
       "        <td>Булгаков М.А.</td>\n",
       "        <td>540.5</td>\n",
       "        <td>5</td>\n",
       "    </tr>\n",
       "    <tr>\n",
       "        <td>4</td>\n",
       "        <td>Идиот</td>\n",
       "        <td>Достоевский Ф.М.</td>\n",
       "        <td>460</td>\n",
       "        <td>10</td>\n",
       "    </tr>\n",
       "    <tr>\n",
       "        <td>5</td>\n",
       "        <td>Братья Карамазовы</td>\n",
       "        <td>Достоевский Ф.М.</td>\n",
       "        <td>799.01</td>\n",
       "        <td>2</td>\n",
       "    </tr>\n",
       "</table>"
      ],
      "text/plain": [
       "[(1, 'Мастер и Маргарита', 'Булгаков М.А.', 670.99, 3),\n",
       " (2, 'Мастер и Маргарита', 'Булгаков М.А.', 670.99, 3),\n",
       " (3, 'Белая гвардия', 'Булгаков М.А.', 540.5, 5),\n",
       " (4, 'Идиот', 'Достоевский Ф.М.', 460, 10),\n",
       " (5, 'Братья Карамазовы', 'Достоевский Ф.М.', 799.01, 2)]"
      ]
     },
     "execution_count": 20,
     "metadata": {},
     "output_type": "execute_result"
    }
   ],
   "source": [
    "%%sql\n",
    "SELECT * FROM book"
   ]
  }
 ],
 "metadata": {
  "kernelspec": {
   "display_name": "Python 3 (ipykernel)",
   "language": "python",
   "name": "python3"
  },
  "language_info": {
   "codemirror_mode": {
    "name": "ipython",
    "version": 3
   },
   "file_extension": ".py",
   "mimetype": "text/x-python",
   "name": "python",
   "nbconvert_exporter": "python",
   "pygments_lexer": "ipython3",
   "version": "3.8.8"
  }
 },
 "nbformat": 4,
 "nbformat_minor": 5
}
